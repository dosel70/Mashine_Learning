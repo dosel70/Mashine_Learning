{
 "cells": [
  {
   "cell_type": "markdown",
   "id": "a84b5e50-5b18-4d95-893e-ea5b330a30ac",
   "metadata": {},
   "source": [
    "#### 법무 법인에 대한 텍스트 "
   ]
  },
  {
   "cell_type": "code",
   "execution_count": 1,
   "id": "6438320f-8504-46c8-b84a-ae90e61a118b",
   "metadata": {},
   "outputs": [],
   "source": [
    "import pandas as pd "
   ]
  },
  {
   "cell_type": "code",
   "execution_count": 2,
   "id": "b7262626-3b6a-4693-9e3e-331dabe6278c",
   "metadata": {},
   "outputs": [
    {
     "data": {
      "text/html": [
       "<div>\n",
       "<style scoped>\n",
       "    .dataframe tbody tr th:only-of-type {\n",
       "        vertical-align: middle;\n",
       "    }\n",
       "\n",
       "    .dataframe tbody tr th {\n",
       "        vertical-align: top;\n",
       "    }\n",
       "\n",
       "    .dataframe thead th {\n",
       "        text-align: right;\n",
       "    }\n",
       "</style>\n",
       "<table border=\"1\" class=\"dataframe\">\n",
       "  <thead>\n",
       "    <tr style=\"text-align: right;\">\n",
       "      <th></th>\n",
       "      <th>case_id</th>\n",
       "      <th>case_outcome</th>\n",
       "      <th>case_title</th>\n",
       "      <th>case_text</th>\n",
       "    </tr>\n",
       "  </thead>\n",
       "  <tbody>\n",
       "    <tr>\n",
       "      <th>0</th>\n",
       "      <td>Case1</td>\n",
       "      <td>cited</td>\n",
       "      <td>Alpine Hardwood (Aust) Pty Ltd v Hardys Pty Lt...</td>\n",
       "      <td>Ordinarily that discretion will be exercised s...</td>\n",
       "    </tr>\n",
       "    <tr>\n",
       "      <th>1</th>\n",
       "      <td>Case2</td>\n",
       "      <td>cited</td>\n",
       "      <td>Black v Lipovac [1998] FCA 699 ; (1998) 217 AL...</td>\n",
       "      <td>The general principles governing the exercise ...</td>\n",
       "    </tr>\n",
       "    <tr>\n",
       "      <th>2</th>\n",
       "      <td>Case3</td>\n",
       "      <td>cited</td>\n",
       "      <td>Colgate Palmolive Co v Cussons Pty Ltd (1993) ...</td>\n",
       "      <td>Ordinarily that discretion will be exercised s...</td>\n",
       "    </tr>\n",
       "    <tr>\n",
       "      <th>3</th>\n",
       "      <td>Case4</td>\n",
       "      <td>cited</td>\n",
       "      <td>Dais Studio Pty Ltd v Bullett Creative Pty Ltd...</td>\n",
       "      <td>The general principles governing the exercise ...</td>\n",
       "    </tr>\n",
       "    <tr>\n",
       "      <th>4</th>\n",
       "      <td>Case5</td>\n",
       "      <td>cited</td>\n",
       "      <td>Dr Martens Australia Pty Ltd v Figgins Holding...</td>\n",
       "      <td>The preceding general principles inform the ex...</td>\n",
       "    </tr>\n",
       "    <tr>\n",
       "      <th>...</th>\n",
       "      <td>...</td>\n",
       "      <td>...</td>\n",
       "      <td>...</td>\n",
       "      <td>...</td>\n",
       "    </tr>\n",
       "    <tr>\n",
       "      <th>24980</th>\n",
       "      <td>Case25203</td>\n",
       "      <td>cited</td>\n",
       "      <td>Reches Pty Ltd v Tadiran Pty Ltd (1998) 85 FCR...</td>\n",
       "      <td>That is not confined to persons who control th...</td>\n",
       "    </tr>\n",
       "    <tr>\n",
       "      <th>24981</th>\n",
       "      <td>Case25204</td>\n",
       "      <td>cited</td>\n",
       "      <td>Sir Lindsay Parkinson &amp;amp; Co Ltd v Triplan L...</td>\n",
       "      <td>Once the threshold prescribed by s 1335 is sat...</td>\n",
       "    </tr>\n",
       "    <tr>\n",
       "      <th>24982</th>\n",
       "      <td>Case25205</td>\n",
       "      <td>cited</td>\n",
       "      <td>Spiel v Commodity Brokers Australia Pty Ltd (I...</td>\n",
       "      <td>Once the threshold prescribed by s 1335 is sat...</td>\n",
       "    </tr>\n",
       "    <tr>\n",
       "      <th>24983</th>\n",
       "      <td>Case25206</td>\n",
       "      <td>distinguished</td>\n",
       "      <td>Tullock Ltd v Walker (Unreported, Supreme Cour...</td>\n",
       "      <td>Given the extent to which Deumer stands to gai...</td>\n",
       "    </tr>\n",
       "    <tr>\n",
       "      <th>24984</th>\n",
       "      <td>Case25207</td>\n",
       "      <td>distinguished</td>\n",
       "      <td>Yandil Holdings Pty Ltd v Insurance Co of Nort...</td>\n",
       "      <td>In my view, it is clear that the Court may do ...</td>\n",
       "    </tr>\n",
       "  </tbody>\n",
       "</table>\n",
       "<p>24985 rows × 4 columns</p>\n",
       "</div>"
      ],
      "text/plain": [
       "         case_id   case_outcome  \\\n",
       "0          Case1          cited   \n",
       "1          Case2          cited   \n",
       "2          Case3          cited   \n",
       "3          Case4          cited   \n",
       "4          Case5          cited   \n",
       "...          ...            ...   \n",
       "24980  Case25203          cited   \n",
       "24981  Case25204          cited   \n",
       "24982  Case25205          cited   \n",
       "24983  Case25206  distinguished   \n",
       "24984  Case25207  distinguished   \n",
       "\n",
       "                                              case_title  \\\n",
       "0      Alpine Hardwood (Aust) Pty Ltd v Hardys Pty Lt...   \n",
       "1      Black v Lipovac [1998] FCA 699 ; (1998) 217 AL...   \n",
       "2      Colgate Palmolive Co v Cussons Pty Ltd (1993) ...   \n",
       "3      Dais Studio Pty Ltd v Bullett Creative Pty Ltd...   \n",
       "4      Dr Martens Australia Pty Ltd v Figgins Holding...   \n",
       "...                                                  ...   \n",
       "24980  Reches Pty Ltd v Tadiran Pty Ltd (1998) 85 FCR...   \n",
       "24981  Sir Lindsay Parkinson &amp; Co Ltd v Triplan L...   \n",
       "24982  Spiel v Commodity Brokers Australia Pty Ltd (I...   \n",
       "24983  Tullock Ltd v Walker (Unreported, Supreme Cour...   \n",
       "24984  Yandil Holdings Pty Ltd v Insurance Co of Nort...   \n",
       "\n",
       "                                               case_text  \n",
       "0      Ordinarily that discretion will be exercised s...  \n",
       "1      The general principles governing the exercise ...  \n",
       "2      Ordinarily that discretion will be exercised s...  \n",
       "3      The general principles governing the exercise ...  \n",
       "4      The preceding general principles inform the ex...  \n",
       "...                                                  ...  \n",
       "24980  That is not confined to persons who control th...  \n",
       "24981  Once the threshold prescribed by s 1335 is sat...  \n",
       "24982  Once the threshold prescribed by s 1335 is sat...  \n",
       "24983  Given the extent to which Deumer stands to gai...  \n",
       "24984  In my view, it is clear that the Court may do ...  \n",
       "\n",
       "[24985 rows x 4 columns]"
      ]
     },
     "execution_count": 2,
     "metadata": {},
     "output_type": "execute_result"
    }
   ],
   "source": [
    "df = pd.read_csv('./datasets/legal_text_classification.csv')\n",
    "df"
   ]
  },
  {
   "cell_type": "code",
   "execution_count": 3,
   "id": "169d54ab-01c7-4ebf-bf09-a4a46f5dd5e6",
   "metadata": {},
   "outputs": [
    {
     "data": {
      "text/plain": [
       "case_id           0\n",
       "case_outcome      0\n",
       "case_title        0\n",
       "case_text       176\n",
       "dtype: int64"
      ]
     },
     "execution_count": 3,
     "metadata": {},
     "output_type": "execute_result"
    }
   ],
   "source": [
    "df.isnull().sum()"
   ]
  },
  {
   "cell_type": "code",
   "execution_count": 4,
   "id": "b98af8d8-ff28-453b-8ca5-f6a04217272e",
   "metadata": {},
   "outputs": [
    {
     "data": {
      "text/plain": [
       "case_id         0\n",
       "case_outcome    0\n",
       "case_title      0\n",
       "case_text       0\n",
       "dtype: int64"
      ]
     },
     "execution_count": 4,
     "metadata": {},
     "output_type": "execute_result"
    }
   ],
   "source": [
    "df = df.dropna(axis=0, subset=[\"case_text\"])\n",
    "df.isna().sum() # 결측치 제거 "
   ]
  },
  {
   "cell_type": "code",
   "execution_count": 5,
   "id": "589fea3b-b682-4eb4-81fe-ed6de051fbfd",
   "metadata": {
    "scrolled": true
   },
   "outputs": [
    {
     "data": {
      "text/html": [
       "<div>\n",
       "<style scoped>\n",
       "    .dataframe tbody tr th:only-of-type {\n",
       "        vertical-align: middle;\n",
       "    }\n",
       "\n",
       "    .dataframe tbody tr th {\n",
       "        vertical-align: top;\n",
       "    }\n",
       "\n",
       "    .dataframe thead th {\n",
       "        text-align: right;\n",
       "    }\n",
       "</style>\n",
       "<table border=\"1\" class=\"dataframe\">\n",
       "  <thead>\n",
       "    <tr style=\"text-align: right;\">\n",
       "      <th></th>\n",
       "      <th>case_id</th>\n",
       "      <th>case_outcome</th>\n",
       "      <th>case_title</th>\n",
       "      <th>case_text</th>\n",
       "    </tr>\n",
       "  </thead>\n",
       "  <tbody>\n",
       "    <tr>\n",
       "      <th>0</th>\n",
       "      <td>Case1</td>\n",
       "      <td>cited</td>\n",
       "      <td>Alpine Hardwood (Aust) Pty Ltd v Hardys Pty Lt...</td>\n",
       "      <td>Ordinarily that discretion will be exercised s...</td>\n",
       "    </tr>\n",
       "    <tr>\n",
       "      <th>1</th>\n",
       "      <td>Case2</td>\n",
       "      <td>cited</td>\n",
       "      <td>Black v Lipovac [1998] FCA 699 ; (1998) 217 AL...</td>\n",
       "      <td>The general principles governing the exercise ...</td>\n",
       "    </tr>\n",
       "    <tr>\n",
       "      <th>2</th>\n",
       "      <td>Case3</td>\n",
       "      <td>cited</td>\n",
       "      <td>Colgate Palmolive Co v Cussons Pty Ltd (1993) ...</td>\n",
       "      <td>Ordinarily that discretion will be exercised s...</td>\n",
       "    </tr>\n",
       "    <tr>\n",
       "      <th>3</th>\n",
       "      <td>Case4</td>\n",
       "      <td>cited</td>\n",
       "      <td>Dais Studio Pty Ltd v Bullett Creative Pty Ltd...</td>\n",
       "      <td>The general principles governing the exercise ...</td>\n",
       "    </tr>\n",
       "    <tr>\n",
       "      <th>4</th>\n",
       "      <td>Case5</td>\n",
       "      <td>cited</td>\n",
       "      <td>Dr Martens Australia Pty Ltd v Figgins Holding...</td>\n",
       "      <td>The preceding general principles inform the ex...</td>\n",
       "    </tr>\n",
       "    <tr>\n",
       "      <th>...</th>\n",
       "      <td>...</td>\n",
       "      <td>...</td>\n",
       "      <td>...</td>\n",
       "      <td>...</td>\n",
       "    </tr>\n",
       "    <tr>\n",
       "      <th>24980</th>\n",
       "      <td>Case25203</td>\n",
       "      <td>cited</td>\n",
       "      <td>Reches Pty Ltd v Tadiran Pty Ltd (1998) 85 FCR...</td>\n",
       "      <td>That is not confined to persons who control th...</td>\n",
       "    </tr>\n",
       "    <tr>\n",
       "      <th>24981</th>\n",
       "      <td>Case25204</td>\n",
       "      <td>cited</td>\n",
       "      <td>Sir Lindsay Parkinson &amp;amp; Co Ltd v Triplan L...</td>\n",
       "      <td>Once the threshold prescribed by s 1335 is sat...</td>\n",
       "    </tr>\n",
       "    <tr>\n",
       "      <th>24982</th>\n",
       "      <td>Case25205</td>\n",
       "      <td>cited</td>\n",
       "      <td>Spiel v Commodity Brokers Australia Pty Ltd (I...</td>\n",
       "      <td>Once the threshold prescribed by s 1335 is sat...</td>\n",
       "    </tr>\n",
       "    <tr>\n",
       "      <th>24983</th>\n",
       "      <td>Case25206</td>\n",
       "      <td>distinguished</td>\n",
       "      <td>Tullock Ltd v Walker (Unreported, Supreme Cour...</td>\n",
       "      <td>Given the extent to which Deumer stands to gai...</td>\n",
       "    </tr>\n",
       "    <tr>\n",
       "      <th>24984</th>\n",
       "      <td>Case25207</td>\n",
       "      <td>distinguished</td>\n",
       "      <td>Yandil Holdings Pty Ltd v Insurance Co of Nort...</td>\n",
       "      <td>In my view, it is clear that the Court may do ...</td>\n",
       "    </tr>\n",
       "  </tbody>\n",
       "</table>\n",
       "<p>24809 rows × 4 columns</p>\n",
       "</div>"
      ],
      "text/plain": [
       "         case_id   case_outcome  \\\n",
       "0          Case1          cited   \n",
       "1          Case2          cited   \n",
       "2          Case3          cited   \n",
       "3          Case4          cited   \n",
       "4          Case5          cited   \n",
       "...          ...            ...   \n",
       "24980  Case25203          cited   \n",
       "24981  Case25204          cited   \n",
       "24982  Case25205          cited   \n",
       "24983  Case25206  distinguished   \n",
       "24984  Case25207  distinguished   \n",
       "\n",
       "                                              case_title  \\\n",
       "0      Alpine Hardwood (Aust) Pty Ltd v Hardys Pty Lt...   \n",
       "1      Black v Lipovac [1998] FCA 699 ; (1998) 217 AL...   \n",
       "2      Colgate Palmolive Co v Cussons Pty Ltd (1993) ...   \n",
       "3      Dais Studio Pty Ltd v Bullett Creative Pty Ltd...   \n",
       "4      Dr Martens Australia Pty Ltd v Figgins Holding...   \n",
       "...                                                  ...   \n",
       "24980  Reches Pty Ltd v Tadiran Pty Ltd (1998) 85 FCR...   \n",
       "24981  Sir Lindsay Parkinson &amp; Co Ltd v Triplan L...   \n",
       "24982  Spiel v Commodity Brokers Australia Pty Ltd (I...   \n",
       "24983  Tullock Ltd v Walker (Unreported, Supreme Cour...   \n",
       "24984  Yandil Holdings Pty Ltd v Insurance Co of Nort...   \n",
       "\n",
       "                                               case_text  \n",
       "0      Ordinarily that discretion will be exercised s...  \n",
       "1      The general principles governing the exercise ...  \n",
       "2      Ordinarily that discretion will be exercised s...  \n",
       "3      The general principles governing the exercise ...  \n",
       "4      The preceding general principles inform the ex...  \n",
       "...                                                  ...  \n",
       "24980  That is not confined to persons who control th...  \n",
       "24981  Once the threshold prescribed by s 1335 is sat...  \n",
       "24982  Once the threshold prescribed by s 1335 is sat...  \n",
       "24983  Given the extent to which Deumer stands to gai...  \n",
       "24984  In my view, it is clear that the Court may do ...  \n",
       "\n",
       "[24809 rows x 4 columns]"
      ]
     },
     "execution_count": 5,
     "metadata": {},
     "output_type": "execute_result"
    }
   ],
   "source": [
    "enc_df = df.copy()\n",
    "enc_df"
   ]
  },
  {
   "cell_type": "code",
   "execution_count": 6,
   "id": "b3f7e4d8-6943-4055-9b2f-667e01a8f8c1",
   "metadata": {},
   "outputs": [],
   "source": [
    "from sklearn.preprocessing import LabelEncoder\n",
    "\n",
    "l_encoder = LabelEncoder()\n",
    "targets = l_encoder.fit_transform(df.case_outcome)\n",
    "enc_df['target'] = targets"
   ]
  },
  {
   "cell_type": "code",
   "execution_count": 7,
   "id": "2421e65e-ffe3-4ab0-b1b7-d4cb5a7baf75",
   "metadata": {},
   "outputs": [
    {
     "data": {
      "text/html": [
       "<div>\n",
       "<style scoped>\n",
       "    .dataframe tbody tr th:only-of-type {\n",
       "        vertical-align: middle;\n",
       "    }\n",
       "\n",
       "    .dataframe tbody tr th {\n",
       "        vertical-align: top;\n",
       "    }\n",
       "\n",
       "    .dataframe thead th {\n",
       "        text-align: right;\n",
       "    }\n",
       "</style>\n",
       "<table border=\"1\" class=\"dataframe\">\n",
       "  <thead>\n",
       "    <tr style=\"text-align: right;\">\n",
       "      <th></th>\n",
       "      <th>case_id</th>\n",
       "      <th>case_title</th>\n",
       "      <th>case_text</th>\n",
       "      <th>target</th>\n",
       "    </tr>\n",
       "  </thead>\n",
       "  <tbody>\n",
       "    <tr>\n",
       "      <th>0</th>\n",
       "      <td>Case1</td>\n",
       "      <td>Alpine Hardwood (Aust) Pty Ltd v Hardys Pty Lt...</td>\n",
       "      <td>Ordinarily that discretion will be exercised s...</td>\n",
       "      <td>3</td>\n",
       "    </tr>\n",
       "    <tr>\n",
       "      <th>1</th>\n",
       "      <td>Case2</td>\n",
       "      <td>Black v Lipovac [1998] FCA 699 ; (1998) 217 AL...</td>\n",
       "      <td>The general principles governing the exercise ...</td>\n",
       "      <td>3</td>\n",
       "    </tr>\n",
       "    <tr>\n",
       "      <th>2</th>\n",
       "      <td>Case3</td>\n",
       "      <td>Colgate Palmolive Co v Cussons Pty Ltd (1993) ...</td>\n",
       "      <td>Ordinarily that discretion will be exercised s...</td>\n",
       "      <td>3</td>\n",
       "    </tr>\n",
       "    <tr>\n",
       "      <th>3</th>\n",
       "      <td>Case4</td>\n",
       "      <td>Dais Studio Pty Ltd v Bullett Creative Pty Ltd...</td>\n",
       "      <td>The general principles governing the exercise ...</td>\n",
       "      <td>3</td>\n",
       "    </tr>\n",
       "    <tr>\n",
       "      <th>4</th>\n",
       "      <td>Case5</td>\n",
       "      <td>Dr Martens Australia Pty Ltd v Figgins Holding...</td>\n",
       "      <td>The preceding general principles inform the ex...</td>\n",
       "      <td>3</td>\n",
       "    </tr>\n",
       "    <tr>\n",
       "      <th>...</th>\n",
       "      <td>...</td>\n",
       "      <td>...</td>\n",
       "      <td>...</td>\n",
       "      <td>...</td>\n",
       "    </tr>\n",
       "    <tr>\n",
       "      <th>24980</th>\n",
       "      <td>Case25203</td>\n",
       "      <td>Reches Pty Ltd v Tadiran Pty Ltd (1998) 85 FCR...</td>\n",
       "      <td>That is not confined to persons who control th...</td>\n",
       "      <td>3</td>\n",
       "    </tr>\n",
       "    <tr>\n",
       "      <th>24981</th>\n",
       "      <td>Case25204</td>\n",
       "      <td>Sir Lindsay Parkinson &amp;amp; Co Ltd v Triplan L...</td>\n",
       "      <td>Once the threshold prescribed by s 1335 is sat...</td>\n",
       "      <td>3</td>\n",
       "    </tr>\n",
       "    <tr>\n",
       "      <th>24982</th>\n",
       "      <td>Case25205</td>\n",
       "      <td>Spiel v Commodity Brokers Australia Pty Ltd (I...</td>\n",
       "      <td>Once the threshold prescribed by s 1335 is sat...</td>\n",
       "      <td>3</td>\n",
       "    </tr>\n",
       "    <tr>\n",
       "      <th>24983</th>\n",
       "      <td>Case25206</td>\n",
       "      <td>Tullock Ltd v Walker (Unreported, Supreme Cour...</td>\n",
       "      <td>Given the extent to which Deumer stands to gai...</td>\n",
       "      <td>6</td>\n",
       "    </tr>\n",
       "    <tr>\n",
       "      <th>24984</th>\n",
       "      <td>Case25207</td>\n",
       "      <td>Yandil Holdings Pty Ltd v Insurance Co of Nort...</td>\n",
       "      <td>In my view, it is clear that the Court may do ...</td>\n",
       "      <td>6</td>\n",
       "    </tr>\n",
       "  </tbody>\n",
       "</table>\n",
       "<p>24809 rows × 4 columns</p>\n",
       "</div>"
      ],
      "text/plain": [
       "         case_id                                         case_title  \\\n",
       "0          Case1  Alpine Hardwood (Aust) Pty Ltd v Hardys Pty Lt...   \n",
       "1          Case2  Black v Lipovac [1998] FCA 699 ; (1998) 217 AL...   \n",
       "2          Case3  Colgate Palmolive Co v Cussons Pty Ltd (1993) ...   \n",
       "3          Case4  Dais Studio Pty Ltd v Bullett Creative Pty Ltd...   \n",
       "4          Case5  Dr Martens Australia Pty Ltd v Figgins Holding...   \n",
       "...          ...                                                ...   \n",
       "24980  Case25203  Reches Pty Ltd v Tadiran Pty Ltd (1998) 85 FCR...   \n",
       "24981  Case25204  Sir Lindsay Parkinson &amp; Co Ltd v Triplan L...   \n",
       "24982  Case25205  Spiel v Commodity Brokers Australia Pty Ltd (I...   \n",
       "24983  Case25206  Tullock Ltd v Walker (Unreported, Supreme Cour...   \n",
       "24984  Case25207  Yandil Holdings Pty Ltd v Insurance Co of Nort...   \n",
       "\n",
       "                                               case_text  target  \n",
       "0      Ordinarily that discretion will be exercised s...       3  \n",
       "1      The general principles governing the exercise ...       3  \n",
       "2      Ordinarily that discretion will be exercised s...       3  \n",
       "3      The general principles governing the exercise ...       3  \n",
       "4      The preceding general principles inform the ex...       3  \n",
       "...                                                  ...     ...  \n",
       "24980  That is not confined to persons who control th...       3  \n",
       "24981  Once the threshold prescribed by s 1335 is sat...       3  \n",
       "24982  Once the threshold prescribed by s 1335 is sat...       3  \n",
       "24983  Given the extent to which Deumer stands to gai...       6  \n",
       "24984  In my view, it is clear that the Court may do ...       6  \n",
       "\n",
       "[24809 rows x 4 columns]"
      ]
     },
     "execution_count": 7,
     "metadata": {},
     "output_type": "execute_result"
    }
   ],
   "source": [
    "enc_df = enc_df.drop(labels=['case_outcome'], axis=1)\n",
    "enc_df"
   ]
  },
  {
   "cell_type": "code",
   "execution_count": 8,
   "id": "89b8070a-3c47-43d2-aa36-b7c8cca06d38",
   "metadata": {},
   "outputs": [
    {
     "data": {
      "text/html": [
       "<div>\n",
       "<style scoped>\n",
       "    .dataframe tbody tr th:only-of-type {\n",
       "        vertical-align: middle;\n",
       "    }\n",
       "\n",
       "    .dataframe tbody tr th {\n",
       "        vertical-align: top;\n",
       "    }\n",
       "\n",
       "    .dataframe thead th {\n",
       "        text-align: right;\n",
       "    }\n",
       "</style>\n",
       "<table border=\"1\" class=\"dataframe\">\n",
       "  <thead>\n",
       "    <tr style=\"text-align: right;\">\n",
       "      <th></th>\n",
       "      <th>case_text</th>\n",
       "      <th>target</th>\n",
       "    </tr>\n",
       "  </thead>\n",
       "  <tbody>\n",
       "    <tr>\n",
       "      <th>0</th>\n",
       "      <td>Ordinarily that discretion will be exercised s...</td>\n",
       "      <td>3</td>\n",
       "    </tr>\n",
       "    <tr>\n",
       "      <th>1</th>\n",
       "      <td>The general principles governing the exercise ...</td>\n",
       "      <td>3</td>\n",
       "    </tr>\n",
       "    <tr>\n",
       "      <th>2</th>\n",
       "      <td>Ordinarily that discretion will be exercised s...</td>\n",
       "      <td>3</td>\n",
       "    </tr>\n",
       "    <tr>\n",
       "      <th>3</th>\n",
       "      <td>The general principles governing the exercise ...</td>\n",
       "      <td>3</td>\n",
       "    </tr>\n",
       "    <tr>\n",
       "      <th>4</th>\n",
       "      <td>The preceding general principles inform the ex...</td>\n",
       "      <td>3</td>\n",
       "    </tr>\n",
       "    <tr>\n",
       "      <th>...</th>\n",
       "      <td>...</td>\n",
       "      <td>...</td>\n",
       "    </tr>\n",
       "    <tr>\n",
       "      <th>24980</th>\n",
       "      <td>That is not confined to persons who control th...</td>\n",
       "      <td>3</td>\n",
       "    </tr>\n",
       "    <tr>\n",
       "      <th>24981</th>\n",
       "      <td>Once the threshold prescribed by s 1335 is sat...</td>\n",
       "      <td>3</td>\n",
       "    </tr>\n",
       "    <tr>\n",
       "      <th>24982</th>\n",
       "      <td>Once the threshold prescribed by s 1335 is sat...</td>\n",
       "      <td>3</td>\n",
       "    </tr>\n",
       "    <tr>\n",
       "      <th>24983</th>\n",
       "      <td>Given the extent to which Deumer stands to gai...</td>\n",
       "      <td>6</td>\n",
       "    </tr>\n",
       "    <tr>\n",
       "      <th>24984</th>\n",
       "      <td>In my view, it is clear that the Court may do ...</td>\n",
       "      <td>6</td>\n",
       "    </tr>\n",
       "  </tbody>\n",
       "</table>\n",
       "<p>24809 rows × 2 columns</p>\n",
       "</div>"
      ],
      "text/plain": [
       "                                               case_text  target\n",
       "0      Ordinarily that discretion will be exercised s...       3\n",
       "1      The general principles governing the exercise ...       3\n",
       "2      Ordinarily that discretion will be exercised s...       3\n",
       "3      The general principles governing the exercise ...       3\n",
       "4      The preceding general principles inform the ex...       3\n",
       "...                                                  ...     ...\n",
       "24980  That is not confined to persons who control th...       3\n",
       "24981  Once the threshold prescribed by s 1335 is sat...       3\n",
       "24982  Once the threshold prescribed by s 1335 is sat...       3\n",
       "24983  Given the extent to which Deumer stands to gai...       6\n",
       "24984  In my view, it is clear that the Court may do ...       6\n",
       "\n",
       "[24809 rows x 2 columns]"
      ]
     },
     "execution_count": 8,
     "metadata": {},
     "output_type": "execute_result"
    }
   ],
   "source": [
    "enc_df = enc_df.drop(labels=['case_id'], axis=1)\n",
    "enc_df = enc_df.drop(labels=['case_title'], axis=1)\n",
    "enc_df\n",
    "\n",
    "# 독립 변수로 만들어야 하기 때문에 연관이 되는 종속변수들을 삭제 하도록 한다. (학습 시 문제가 발생함)"
   ]
  },
  {
   "cell_type": "code",
   "execution_count": 9,
   "id": "a7d5fd85-42f6-4d34-a87b-5831ae8665d3",
   "metadata": {},
   "outputs": [
    {
     "data": {
      "text/plain": [
       "5807"
      ]
     },
     "execution_count": 9,
     "metadata": {},
     "output_type": "execute_result"
    }
   ],
   "source": [
    "enc_df.duplicated().sum()"
   ]
  },
  {
   "cell_type": "code",
   "execution_count": 10,
   "id": "fb64ca54-93db-4eef-b45a-892df1154854",
   "metadata": {},
   "outputs": [
    {
     "data": {
      "text/plain": [
       "0"
      ]
     },
     "execution_count": 10,
     "metadata": {},
     "output_type": "execute_result"
    }
   ],
   "source": [
    "enc_df = enc_df.drop_duplicates()\n",
    "enc_df.duplicated().sum() # 중복치 제거 "
   ]
  },
  {
   "cell_type": "code",
   "execution_count": 11,
   "id": "57736bf4-9be1-4cd5-b240-9409c0e52ba8",
   "metadata": {},
   "outputs": [
    {
     "data": {
      "text/plain": [
       "target\n",
       "3    8251\n",
       "8    3394\n",
       "1    2165\n",
       "7    1868\n",
       "4    1520\n",
       "5     975\n",
       "6     526\n",
       "0     106\n",
       "2      99\n",
       "9      98\n",
       "Name: count, dtype: int64"
      ]
     },
     "execution_count": 11,
     "metadata": {},
     "output_type": "execute_result"
    }
   ],
   "source": [
    "enc_df.target.value_counts() # 각 데이터의 개수의 비중이 알맞지 않기때문에 \n",
    "# micro를 나중에 사용해야 한다. << 재현율, F1 Score에 사용"
   ]
  },
  {
   "cell_type": "code",
   "execution_count": 14,
   "id": "0a2eaf00-b2e2-4058-858f-15ffc10e8069",
   "metadata": {},
   "outputs": [],
   "source": [
    "from sklearn.model_selection import train_test_split\n",
    "\n",
    "features, targets = enc_df.iloc[:,:-1] , enc_df.iloc[:,-1]\n",
    "X_train, X_test, y_train, y_test = train_test_split(enc_df.case_text, enc_df.target, stratify=targets,test_size=0.2, random_state=124)\n"
   ]
  },
  {
   "cell_type": "code",
   "execution_count": 15,
   "id": "60087a77-b3ac-44aa-bfb5-1f62eec8d1cb",
   "metadata": {},
   "outputs": [
    {
     "data": {
      "text/html": [
       "<style>#sk-container-id-1 {color: black;background-color: white;}#sk-container-id-1 pre{padding: 0;}#sk-container-id-1 div.sk-toggleable {background-color: white;}#sk-container-id-1 label.sk-toggleable__label {cursor: pointer;display: block;width: 100%;margin-bottom: 0;padding: 0.3em;box-sizing: border-box;text-align: center;}#sk-container-id-1 label.sk-toggleable__label-arrow:before {content: \"▸\";float: left;margin-right: 0.25em;color: #696969;}#sk-container-id-1 label.sk-toggleable__label-arrow:hover:before {color: black;}#sk-container-id-1 div.sk-estimator:hover label.sk-toggleable__label-arrow:before {color: black;}#sk-container-id-1 div.sk-toggleable__content {max-height: 0;max-width: 0;overflow: hidden;text-align: left;background-color: #f0f8ff;}#sk-container-id-1 div.sk-toggleable__content pre {margin: 0.2em;color: black;border-radius: 0.25em;background-color: #f0f8ff;}#sk-container-id-1 input.sk-toggleable__control:checked~div.sk-toggleable__content {max-height: 200px;max-width: 100%;overflow: auto;}#sk-container-id-1 input.sk-toggleable__control:checked~label.sk-toggleable__label-arrow:before {content: \"▾\";}#sk-container-id-1 div.sk-estimator input.sk-toggleable__control:checked~label.sk-toggleable__label {background-color: #d4ebff;}#sk-container-id-1 div.sk-label input.sk-toggleable__control:checked~label.sk-toggleable__label {background-color: #d4ebff;}#sk-container-id-1 input.sk-hidden--visually {border: 0;clip: rect(1px 1px 1px 1px);clip: rect(1px, 1px, 1px, 1px);height: 1px;margin: -1px;overflow: hidden;padding: 0;position: absolute;width: 1px;}#sk-container-id-1 div.sk-estimator {font-family: monospace;background-color: #f0f8ff;border: 1px dotted black;border-radius: 0.25em;box-sizing: border-box;margin-bottom: 0.5em;}#sk-container-id-1 div.sk-estimator:hover {background-color: #d4ebff;}#sk-container-id-1 div.sk-parallel-item::after {content: \"\";width: 100%;border-bottom: 1px solid gray;flex-grow: 1;}#sk-container-id-1 div.sk-label:hover label.sk-toggleable__label {background-color: #d4ebff;}#sk-container-id-1 div.sk-serial::before {content: \"\";position: absolute;border-left: 1px solid gray;box-sizing: border-box;top: 0;bottom: 0;left: 50%;z-index: 0;}#sk-container-id-1 div.sk-serial {display: flex;flex-direction: column;align-items: center;background-color: white;padding-right: 0.2em;padding-left: 0.2em;position: relative;}#sk-container-id-1 div.sk-item {position: relative;z-index: 1;}#sk-container-id-1 div.sk-parallel {display: flex;align-items: stretch;justify-content: center;background-color: white;position: relative;}#sk-container-id-1 div.sk-item::before, #sk-container-id-1 div.sk-parallel-item::before {content: \"\";position: absolute;border-left: 1px solid gray;box-sizing: border-box;top: 0;bottom: 0;left: 50%;z-index: -1;}#sk-container-id-1 div.sk-parallel-item {display: flex;flex-direction: column;z-index: 1;position: relative;background-color: white;}#sk-container-id-1 div.sk-parallel-item:first-child::after {align-self: flex-end;width: 50%;}#sk-container-id-1 div.sk-parallel-item:last-child::after {align-self: flex-start;width: 50%;}#sk-container-id-1 div.sk-parallel-item:only-child::after {width: 0;}#sk-container-id-1 div.sk-dashed-wrapped {border: 1px dashed gray;margin: 0 0.4em 0.5em 0.4em;box-sizing: border-box;padding-bottom: 0.4em;background-color: white;}#sk-container-id-1 div.sk-label label {font-family: monospace;font-weight: bold;display: inline-block;line-height: 1.2em;}#sk-container-id-1 div.sk-label-container {text-align: center;}#sk-container-id-1 div.sk-container {/* jupyter's `normalize.less` sets `[hidden] { display: none; }` but bootstrap.min.css set `[hidden] { display: none !important; }` so we also need the `!important` here to be able to override the default hidden behavior on the sphinx rendered scikit-learn.org. See: https://github.com/scikit-learn/scikit-learn/issues/21755 */display: inline-block !important;position: relative;}#sk-container-id-1 div.sk-text-repr-fallback {display: none;}</style><div id=\"sk-container-id-1\" class=\"sk-top-container\"><div class=\"sk-text-repr-fallback\"><pre>Pipeline(steps=[(&#x27;count_vectorizer&#x27;, CountVectorizer()),\n",
       "                (&#x27;multinomial_NB&#x27;, MultinomialNB())])</pre><b>In a Jupyter environment, please rerun this cell to show the HTML representation or trust the notebook. <br />On GitHub, the HTML representation is unable to render, please try loading this page with nbviewer.org.</b></div><div class=\"sk-container\" hidden><div class=\"sk-item sk-dashed-wrapped\"><div class=\"sk-label-container\"><div class=\"sk-label sk-toggleable\"><input class=\"sk-toggleable__control sk-hidden--visually\" id=\"sk-estimator-id-1\" type=\"checkbox\" ><label for=\"sk-estimator-id-1\" class=\"sk-toggleable__label sk-toggleable__label-arrow\">Pipeline</label><div class=\"sk-toggleable__content\"><pre>Pipeline(steps=[(&#x27;count_vectorizer&#x27;, CountVectorizer()),\n",
       "                (&#x27;multinomial_NB&#x27;, MultinomialNB())])</pre></div></div></div><div class=\"sk-serial\"><div class=\"sk-item\"><div class=\"sk-estimator sk-toggleable\"><input class=\"sk-toggleable__control sk-hidden--visually\" id=\"sk-estimator-id-2\" type=\"checkbox\" ><label for=\"sk-estimator-id-2\" class=\"sk-toggleable__label sk-toggleable__label-arrow\">CountVectorizer</label><div class=\"sk-toggleable__content\"><pre>CountVectorizer()</pre></div></div></div><div class=\"sk-item\"><div class=\"sk-estimator sk-toggleable\"><input class=\"sk-toggleable__control sk-hidden--visually\" id=\"sk-estimator-id-3\" type=\"checkbox\" ><label for=\"sk-estimator-id-3\" class=\"sk-toggleable__label sk-toggleable__label-arrow\">MultinomialNB</label><div class=\"sk-toggleable__content\"><pre>MultinomialNB()</pre></div></div></div></div></div></div></div>"
      ],
      "text/plain": [
       "Pipeline(steps=[('count_vectorizer', CountVectorizer()),\n",
       "                ('multinomial_NB', MultinomialNB())])"
      ]
     },
     "execution_count": 15,
     "metadata": {},
     "output_type": "execute_result"
    }
   ],
   "source": [
    "# 파이프라인 구축 \n",
    "from sklearn.feature_extraction.text import CountVectorizer\n",
    "from sklearn.naive_bayes import MultinomialNB\n",
    "from sklearn.pipeline import Pipeline\n",
    "\n",
    "# 파이프라인 안에는 리스트를 넣어야 한다.\n",
    "# 파이프라인을 사용하는 이유 ? 매번 작업 시 Vecotrizer를 사용해야 하지만 \n",
    "# 파이프 라인을 구축 시 , 직접 할 필요없이 각 공식에 대입만 할 수 있기 때문에 간편하게 사용 가능하다.\n",
    "l_nb_pipe = Pipeline([('count_vectorizer', CountVectorizer()), ('multinomial_NB', MultinomialNB())])\n",
    "l_nb_pipe.fit(X_train, y_train)\n",
    "\n",
    "\n",
    "\n",
    "# MultinomialNB는 나이브 베이즈(Naive Bayes) 분류기의 한 형태로, \n",
    "# 특히 텍스트 데이터 같은 이산적인 데이터 특성을 가진 문제에 적합한 모델이다. \n",
    "# 나이브 베이즈 분류기는 통계적 분류 기법 중 하나로, 각 특성의 조건부 독립을 가정. \n",
    "# 이 가정 하에, 주어진 특성 세트에 대한 각 클래스의 조건부 확률을 계산하여 분류를 수행."
   ]
  },
  {
   "cell_type": "code",
   "execution_count": 16,
   "id": "5e0f18c2-88f4-4ed2-8e98-3f2565fb028d",
   "metadata": {},
   "outputs": [
    {
     "name": "stdout",
     "output_type": "stream",
     "text": [
      "24647    7\n",
      "5048     4\n",
      "19170    3\n",
      "20778    8\n",
      "12332    9\n",
      "        ..\n",
      "6774     3\n",
      "10011    1\n",
      "20720    3\n",
      "6333     5\n",
      "1798     3\n",
      "Name: target, Length: 3801, dtype: int32\n"
     ]
    }
   ],
   "source": [
    "print(y_test)"
   ]
  },
  {
   "cell_type": "code",
   "execution_count": 17,
   "id": "1bf74de0-340d-4607-876d-261c8233433d",
   "metadata": {},
   "outputs": [
    {
     "name": "stdout",
     "output_type": "stream",
     "text": [
      "[7 4 4 ... 1 7 6]\n"
     ]
    }
   ],
   "source": [
    "print(l_nb_pipe.predict(X_test))"
   ]
  },
  {
   "cell_type": "code",
   "execution_count": 18,
   "id": "85922e1f-26e5-470c-8567-8c4f3ccfc84a",
   "metadata": {},
   "outputs": [
    {
     "data": {
      "text/plain": [
       "0.4135753749013418"
      ]
     },
     "execution_count": 18,
     "metadata": {},
     "output_type": "execute_result"
    }
   ],
   "source": [
    "l_nb_pipe.score(X_test, y_test)"
   ]
  }
 ],
 "metadata": {
  "kernelspec": {
   "display_name": "Python 3 (ipykernel)",
   "language": "python",
   "name": "python3"
  },
  "language_info": {
   "codemirror_mode": {
    "name": "ipython",
    "version": 3
   },
   "file_extension": ".py",
   "mimetype": "text/x-python",
   "name": "python",
   "nbconvert_exporter": "python",
   "pygments_lexer": "ipython3",
   "version": "3.11.8"
  }
 },
 "nbformat": 4,
 "nbformat_minor": 5
}

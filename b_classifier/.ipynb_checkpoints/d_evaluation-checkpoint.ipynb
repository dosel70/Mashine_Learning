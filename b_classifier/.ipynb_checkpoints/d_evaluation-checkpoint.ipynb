{
 "cells": [
  {
   "cell_type": "markdown",
   "id": "26c7408d-1f28-437d-816d-ef310a72caa1",
   "metadata": {},
   "source": [
    "### 분류 (Classification) 성능 평가 지표 \n",
    "\n",
    "#### 정확도 (Accuracy)\n",
    "- 직관적으로 모델 예측 성능을 나타 낼 수 있다.\n",
    "- 2진 분류일 경우 데이터 구성에 따라 타겟 데이터 분포가 불균형하다면, 정확도 한 가지만으로는 적합한 성능 평가 지표가 될 수 없다.\n",
    "- 강아지와 고양이 모두 생존으로 예측하는 모델이 있다고 가정한다.\n",
    "  생존한 강아지 80마리와 사망한 고양이 20마리를 테스트하면, 정확도는 80%이다.\n",
    "  이 모델을 사용하면, 사망한 강아지 혹은 고양이를 절대 예측할 수 없다.\n",
    "\n",
    "<img src=\"./images/accuracy.png\" width=\"400px\">  \n",
    "\n",
    "\n",
    "#### 오차 행렬 (Confusion Matrix)\n",
    "- 학습된 분류 모델이 예측을 수행하면서 얼마나 예측에 오류가 있는지도 함께 보여주는 지표이다.\n",
    "- 데이터가 한 곳으로 치우친 것도 확인 할 수 있으며, TP,TN,FP,FN 4가지로 구성되어 있다.\n",
    "- 오차 행렬로 분류 성능 평가 지표의 모든 것을 구할 수 있다. (정확도, 정밀도, 재현율, F1 Score, ROC AUC)\n",
    "<img src=\"./images/accuracy01.png\" width=\"600px\">\n",
    "\n",
    "1. TN: 예측한 값은 음성이고, 실제 값도 음성일 때 (맞춤)\r\n",
    "2. FP: 예측한 값은 양성이고, 실제 값은 음성일 때 (틀림)\r\n",
    "3. FN: 예측한 값은 음성이고, 실제 값은 양성일 때 (틀림)\r\n",
    "4. TP: 예측한 값은 양성이고, 실제 값도 양성일 때 (맞춤)\r\n",
    "\r\n",
    "- 위 강아지와 고양이의 생존률 예측 모델의 오차 행렬은 다음과 같이 나온다.  \r\n",
    "  \r\n",
    "<img src=\"./images/confusion_matrix02.png\" width=\"600px\">  \r\n",
    "\r\n",
    "- 100마리 전부 생존(음성, Negative)으로 예측했으며, 그 중 80마리는 실제 음성이고, 나머지 20마리는 실제 양성이기 때문이다.\r\n",
    "- 보통 2진 분류일 경우 음성과 양성을 구분하는 의료학, 연구분야 등에서 많이 사용되며, 두 가지 상황으로 나눌 수 있다.\r\n",
    "> 1. 질병이나 이상이 없는데도 양성으로 오진하는 것을 방지하기 위해\r\n",
    ">> - 특이도(Specificity): 정상을 정상으로 진단하는 비율(▲TN)\r\n",
    ">> - 재현율(Recall)이 낮아지고 정밀도(Precision)가 높아질 수 있다.\r\n",
    "> 2. 암 진단에서 양성인 환자를 놓치지 않고 최대한 많이 식별하기 위해\r\n",
    ">> - 민감도(Sensitivity): 질병이 있는 사람을 질병이 있다고 진단하는 비율(▲TP)\r\n",
    ">> - 재현율(Recall)이 높아지고 정밀도(Precision)가 낮아질 수 있다.\r\n",
    "\r\n",
    "- 1.의 경우 Positive보다는 Negative 예측 정확도를 높일 것이다.  \r\n",
    "  ▲TN, ▼TP, 또한, Positive로 예측하는 경우가 매우 작기 때문에, ▼FP\r\n",
    "- 2.의 경우 Negative보다는 Positive 예측 정확도를 높일 것이다.  \r\n",
    "  ▲TP, ▼TN, 또한, Negative로 예측하는 경우가 매우 작기 때문에, ▼FN\r\n",
    "- 📌결과적으로 정확한 판단이 아님에도 불구하고 정확도가 매우 높게 나타나는, 수치적인 판단 오류를 해결해기 위해서는 특이도와 민감도를 잘 조절해야한다.  \r\n",
    "\r\n",
    "#### 정밀도 (Precision)\r\n",
    "- 예측을 Positive로 한 대상 중, 예측과 실제 값이 Positive로 일치한 데이터의 비율을 뜻한다.\r\n",
    "- ▲TP, ▼FP일 경우 정밀도가 상승한다.\r\n",
    "- precision_score()를 사용하여 정밀도를 구할 수 있다.\r\n",
    "\r\n",
    "#### 재현율 (Recall)\r\n",
    "- 실제 값이 Positive인 대상 중, 얼마나 놓치지 않고 Positive로 예측했는 가의 비율을 뜻한다.\r\n",
    "- ▲TP, ▼FN일 경우 재현율이 상승한다.\r\n",
    "- recall_score()를 사용하여 재현율을 구할 수 있다.\r\n",
    "\r\n",
    "#### 정밀도와 재현율의 트레이드 오프 (Trade-off)\r\n",
    "- 분류 시, 결정 임계값(Threshold)을 조정해서 정밀도 또는 재현율의 수치를 높일 수 있다.\r\n",
    "\r\n",
    "> 가정: 구급대원 AI가 교통사고 현장에서 피해자를 병원으로 이송해야할지 판단해야 하는 시나리오.\r\n",
    "> - Dead (Positive): 피해자가 이미 사망했을 경우\r\n",
    "> - Alive (Negative): 피해자가 아직 살아있을 경우  \r\n",
    "\r\n",
    "> - TP: 모델이 Dead를 Dead로 올바르게 분류한 경우\r\n",
    "> - FP: 모델이 Alive를 Dead로 잘못 분류한 경우 (error I)\r\n",
    "> - TN: 모델이 Alive를 Alive로 올바르게 분류한 경우\r\n",
    "> - FN: 모델이 Dead를 Alive로 잘못 분류한 경우 (error II)\r\n",
    "\r\n",
    "> - error I의 비용(FP)은 error II의 비용(FN)보다 훨씬 더 나쁘다! ▼FP, ▼error I\r\n",
    "> <img src=\"./images/threshold.png\" width=\"500px\">\r\n",
    "\r\n",
    "> - 정밀도 (Precision): 모델이 Dead로 예측한 환자 중에서 실제로 Dead인 환자의 비율을 나타낸다. 즉, 양성으로 예측한 결과 중 얼마나 많은 것이 진짜 양성인지 측정한다.  \r\n",
    "> - 재현율 (Recall): 실제 Dead 피해자 중에서 모델이 Dead로 정확하게 예측한 피해자의 비율을 나타낸다> - 이는 정밀도를 높여야 하며, Threshold(임계값)을 높여서 FP를 낮추고(▲정밀도), FN을 높여야 한다(▼재현율).\r\n",
    "> - 즉, Negative(Alive)로 예측할 확률이 높아져야 생명을 구할 확률이 높아지고, Threshold value(임계값)를 높여주는 것이다.\r\n",
    "> - 위의 시나리오처럼 한 쪽의 수치를 강제로 높이면 다른 한 쪽의 수치는 떨어지며,  \r\n",
    "  이를 정밀도와 재현율의 \"트레이드 오프\"라고 한다.\r\n",
    "> - 임계치가 높아지면 정밀도가 높아진다. 반대로 임계치가 낮아지면 재현율이 높아진다.명을 구할 확률이 높아지고, 이를 위해 Threshold value(임계값)를 높여주는 것이다."
   ]
  },
  {
   "cell_type": "markdown",
   "id": "f2a695c1-68d5-4896-b536-820410898f3d",
   "metadata": {},
   "source": [
    "<img src='./images/evaluation.png' width=\"230px\">"
   ]
  },
  {
   "cell_type": "code",
   "execution_count": null,
   "id": "18e98b21-ebe5-4622-94ab-642f385e0216",
   "metadata": {},
   "outputs": [],
   "source": []
  },
  {
   "cell_type": "code",
   "execution_count": null,
   "id": "34158be6-0ab8-4ab7-adda-799363798dd3",
   "metadata": {},
   "outputs": [],
   "source": []
  },
  {
   "cell_type": "code",
   "execution_count": null,
   "id": "0fd4801d-c964-4bca-8eb0-5924e7c21254",
   "metadata": {},
   "outputs": [],
   "source": []
  },
  {
   "cell_type": "code",
   "execution_count": null,
   "id": "94cde5ca-e785-46b8-a042-c984d8b8777d",
   "metadata": {},
   "outputs": [],
   "source": []
  },
  {
   "cell_type": "code",
   "execution_count": null,
   "id": "ec6e12ae-8bf3-4788-8bc5-79b45c4a71cc",
   "metadata": {},
   "outputs": [],
   "source": []
  },
  {
   "cell_type": "code",
   "execution_count": null,
   "id": "26f2010c-591b-40e2-a1f7-c777fc0352c3",
   "metadata": {},
   "outputs": [],
   "source": []
  },
  {
   "cell_type": "code",
   "execution_count": null,
   "id": "95dccc3a-3e42-4f88-8fe1-8c238c93ee24",
   "metadata": {},
   "outputs": [],
   "source": []
  },
  {
   "cell_type": "code",
   "execution_count": null,
   "id": "635e23ff-490e-422f-b20c-3df8a98c447e",
   "metadata": {},
   "outputs": [],
   "source": []
  }
 ],
 "metadata": {
  "kernelspec": {
   "display_name": "Python 3 (ipykernel)",
   "language": "python",
   "name": "python3"
  },
  "language_info": {
   "codemirror_mode": {
    "name": "ipython",
    "version": 3
   },
   "file_extension": ".py",
   "mimetype": "text/x-python",
   "name": "python",
   "nbconvert_exporter": "python",
   "pygments_lexer": "ipython3",
   "version": "3.11.8"
  }
 },
 "nbformat": 4,
 "nbformat_minor": 5
}

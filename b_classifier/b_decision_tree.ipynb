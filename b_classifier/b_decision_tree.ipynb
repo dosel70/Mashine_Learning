{
 "cells": [
  {
   "cell_type": "markdown",
   "id": "f6616deb-26e7-40fa-83aa-efc544cee32d",
   "metadata": {},
   "source": [
    "### 결정 트리 (Decision Tree)\n",
    "- 매우 쉽고 유연하게 적용 될 수 있는 알고리즘으로서 데이터의 스케일링, 정규화 등의 데이터 전처리의 의존도가 매우 적다.\n",
    "- 학습을 통해 데이터에 있는 규칙을 자동으로 찾아내서 Tree 기반의 분류 규칙을 만든다.\n",
    "- 각 특성이 개별적으로 처리 되어 데이터를 분할 하는데 데이터 스케일의 영향을 받지 않으므로 결정트리에서는 정규화나 표준화 같은 전처리 과정이 필요없다.\n",
    "- 영향을 가장 많이 미치는 feature를 찾아낼 수도 있다.\n",
    "- 예측 성능을 계속해서 향상 시키면 복잡한 규칙 구조를 가지기 때문에 <sub>※</sub>과적합(Overfitting)이 발생해서 예측 성능이 저하 될 수도 있다.\n",
    "- 가장 상위 노드를 \"루트 노드\" 라고 하며, 나머지 분기점을 \"서브 노드\", 결정된 분류값 노드를 \"리프 노드\"라고 한다.\n",
    "<img src=\"./images/decision_tree.png\" width=\"550\" style=\"margin-top:20px; margin-bottom:20px\">\n",
    "\n",
    "- 복잡도를 감소 시키는 것이 주 목적이며, 정보의 복잡도를 불순도(Impurity)라고 한다.\n",
    "- 이를 수치화한 값으로 지니 계수 (Gini coeficient)가 있다.\n",
    "- 클래스가 섞이지 않고 분류가 잘 되었다면, 불순도 낮다.\n",
    "- 클래스가 많이 섞여 있고 분류가 잘 안되었다면, 불순도 높다.\n",
    "- 통계적 분산 정도를 정량화 하여 표현한 값이고, 0과 1 사이의 값을 가진다.\n",
    "- 지니 계수가 낮을 수록 불순도가 낮은것이고, 분류가 잘 된 것이다.\n",
    "---\n",
    "<sub>※ 과적합이란, 학습 데이터를 과하게 학습 시켜서 실제 데이터에서는 오차가 오히려 증가하는 현상이다.</sub>  \n",
    "\n",
    "<img src=\"./images/overfitting.png\" width=\"350\" style=\"margin-left :-10px\">\n"
   ]
  },
  {
   "cell_type": "markdown",
   "id": "005aa944-1e1c-46a6-b619-59b5ba1ea364",
   "metadata": {},
   "source": [
    "#### Graphviz\r\n",
    "- 결정트리 모델을 시각화할 수 있다.\r\n",
    "- https://graphviz.org/download/  \r\n",
    "  graphviz-9.0.0 (64-bit) EXE installer [sha256]\r\n",
    "- https://drive.google.com/file/d/1oCXidIjNAvUT2UcNFEdhRfFhnZ96iHrp/view?usp=sharing"
   ]
  },
  {
   "cell_type": "code",
   "execution_count": 1,
   "id": "fcd052d0-4668-488d-ad9e-0cdaef6b12e4",
   "metadata": {},
   "outputs": [],
   "source": [
    "import graphviz"
   ]
  },
  {
   "cell_type": "code",
   "execution_count": 7,
   "id": "ae9e1939-cf4c-4633-9753-e045e363ac94",
   "metadata": {},
   "outputs": [
    {
     "data": {
      "text/html": [
       "<style>#sk-container-id-2 {color: black;background-color: white;}#sk-container-id-2 pre{padding: 0;}#sk-container-id-2 div.sk-toggleable {background-color: white;}#sk-container-id-2 label.sk-toggleable__label {cursor: pointer;display: block;width: 100%;margin-bottom: 0;padding: 0.3em;box-sizing: border-box;text-align: center;}#sk-container-id-2 label.sk-toggleable__label-arrow:before {content: \"▸\";float: left;margin-right: 0.25em;color: #696969;}#sk-container-id-2 label.sk-toggleable__label-arrow:hover:before {color: black;}#sk-container-id-2 div.sk-estimator:hover label.sk-toggleable__label-arrow:before {color: black;}#sk-container-id-2 div.sk-toggleable__content {max-height: 0;max-width: 0;overflow: hidden;text-align: left;background-color: #f0f8ff;}#sk-container-id-2 div.sk-toggleable__content pre {margin: 0.2em;color: black;border-radius: 0.25em;background-color: #f0f8ff;}#sk-container-id-2 input.sk-toggleable__control:checked~div.sk-toggleable__content {max-height: 200px;max-width: 100%;overflow: auto;}#sk-container-id-2 input.sk-toggleable__control:checked~label.sk-toggleable__label-arrow:before {content: \"▾\";}#sk-container-id-2 div.sk-estimator input.sk-toggleable__control:checked~label.sk-toggleable__label {background-color: #d4ebff;}#sk-container-id-2 div.sk-label input.sk-toggleable__control:checked~label.sk-toggleable__label {background-color: #d4ebff;}#sk-container-id-2 input.sk-hidden--visually {border: 0;clip: rect(1px 1px 1px 1px);clip: rect(1px, 1px, 1px, 1px);height: 1px;margin: -1px;overflow: hidden;padding: 0;position: absolute;width: 1px;}#sk-container-id-2 div.sk-estimator {font-family: monospace;background-color: #f0f8ff;border: 1px dotted black;border-radius: 0.25em;box-sizing: border-box;margin-bottom: 0.5em;}#sk-container-id-2 div.sk-estimator:hover {background-color: #d4ebff;}#sk-container-id-2 div.sk-parallel-item::after {content: \"\";width: 100%;border-bottom: 1px solid gray;flex-grow: 1;}#sk-container-id-2 div.sk-label:hover label.sk-toggleable__label {background-color: #d4ebff;}#sk-container-id-2 div.sk-serial::before {content: \"\";position: absolute;border-left: 1px solid gray;box-sizing: border-box;top: 0;bottom: 0;left: 50%;z-index: 0;}#sk-container-id-2 div.sk-serial {display: flex;flex-direction: column;align-items: center;background-color: white;padding-right: 0.2em;padding-left: 0.2em;position: relative;}#sk-container-id-2 div.sk-item {position: relative;z-index: 1;}#sk-container-id-2 div.sk-parallel {display: flex;align-items: stretch;justify-content: center;background-color: white;position: relative;}#sk-container-id-2 div.sk-item::before, #sk-container-id-2 div.sk-parallel-item::before {content: \"\";position: absolute;border-left: 1px solid gray;box-sizing: border-box;top: 0;bottom: 0;left: 50%;z-index: -1;}#sk-container-id-2 div.sk-parallel-item {display: flex;flex-direction: column;z-index: 1;position: relative;background-color: white;}#sk-container-id-2 div.sk-parallel-item:first-child::after {align-self: flex-end;width: 50%;}#sk-container-id-2 div.sk-parallel-item:last-child::after {align-self: flex-start;width: 50%;}#sk-container-id-2 div.sk-parallel-item:only-child::after {width: 0;}#sk-container-id-2 div.sk-dashed-wrapped {border: 1px dashed gray;margin: 0 0.4em 0.5em 0.4em;box-sizing: border-box;padding-bottom: 0.4em;background-color: white;}#sk-container-id-2 div.sk-label label {font-family: monospace;font-weight: bold;display: inline-block;line-height: 1.2em;}#sk-container-id-2 div.sk-label-container {text-align: center;}#sk-container-id-2 div.sk-container {/* jupyter's `normalize.less` sets `[hidden] { display: none; }` but bootstrap.min.css set `[hidden] { display: none !important; }` so we also need the `!important` here to be able to override the default hidden behavior on the sphinx rendered scikit-learn.org. See: https://github.com/scikit-learn/scikit-learn/issues/21755 */display: inline-block !important;position: relative;}#sk-container-id-2 div.sk-text-repr-fallback {display: none;}</style><div id=\"sk-container-id-2\" class=\"sk-top-container\"><div class=\"sk-text-repr-fallback\"><pre>DecisionTreeClassifier()</pre><b>In a Jupyter environment, please rerun this cell to show the HTML representation or trust the notebook. <br />On GitHub, the HTML representation is unable to render, please try loading this page with nbviewer.org.</b></div><div class=\"sk-container\" hidden><div class=\"sk-item\"><div class=\"sk-estimator sk-toggleable\"><input class=\"sk-toggleable__control sk-hidden--visually\" id=\"sk-estimator-id-2\" type=\"checkbox\" checked><label for=\"sk-estimator-id-2\" class=\"sk-toggleable__label sk-toggleable__label-arrow\">DecisionTreeClassifier</label><div class=\"sk-toggleable__content\"><pre>DecisionTreeClassifier()</pre></div></div></div></div></div>"
      ],
      "text/plain": [
       "DecisionTreeClassifier()"
      ]
     },
     "execution_count": 7,
     "metadata": {},
     "output_type": "execute_result"
    }
   ],
   "source": [
    "from sklearn.tree import DecisionTreeClassifier\n",
    "from sklearn.datasets import load_iris\n",
    "from sklearn.model_selection import train_test_split\n",
    "\n",
    "dtc = DecisionTreeClassifier()\n",
    "iris = load_iris()\n",
    "\n",
    "X_train, X_test, y_train, y_test = \\\n",
    "train_test_split(iris.data, iris.target, test_size=0.2, random_state=124)\n",
    "dtc.fit(X_train, y_train)"
   ]
  },
  {
   "cell_type": "code",
   "execution_count": 8,
   "id": "b1a430fe-a0b4-4f48-91a2-1a795f7ccc2b",
   "metadata": {},
   "outputs": [],
   "source": [
    "from sklearn.tree import export_graphviz\n",
    "export_graphviz(\n",
    "    dtc, out_file='./images/iris_dtc01.dot',\n",
    "    class_names=iris.target_names,\n",
    "    feature_names=iris.feature_names,\n",
    "    impurity=True,\n",
    "    filled=True)"
   ]
  },
  {
   "cell_type": "code",
   "execution_count": 4,
   "id": "3412b931-e0e0-4ce4-bbda-da54161a39e3",
   "metadata": {},
   "outputs": [],
   "source": [
    "import graphviz\n",
    "with open('./images/iris_dtc01.dot') as f:\n",
    "    iris_dtc01 = f.read()\n",
    "iris_dtc01_graph = graphviz.Source(iris_dtc01)"
   ]
  },
  {
   "cell_type": "markdown",
   "id": "aa71c8f5-b45a-450b-8629-3f4e390fe218",
   "metadata": {},
   "source": [
    "iris_dtc01_graph.render(filename=\"iris_dtc01\", directory=\"./images\", format=\"png\")"
   ]
  },
  {
   "cell_type": "code",
   "execution_count": 6,
   "id": "5ec9a94b-bfa7-4999-96a2-68c14142ea69",
   "metadata": {},
   "outputs": [
    {
     "data": {
      "text/plain": [
       "'images\\\\iris_dtc01.png'"
      ]
     },
     "execution_count": 6,
     "metadata": {},
     "output_type": "execute_result"
    }
   ],
   "source": [
    "iris_dtc01_graph.render(filename=\"iris_dtc01\", directory=\"./images\", format=\"png\")"
   ]
  },
  {
   "cell_type": "markdown",
   "id": "0662c851-28c9-440a-b435-2933fcce3457",
   "metadata": {},
   "source": [
    "<img src=\"./images/iris_dtc01.png\">"
   ]
  },
  {
   "cell_type": "markdown",
   "id": "2c43b2e8-cfab-4bab-9123-5d84ff73a58b",
   "metadata": {},
   "source": [
    "#### Feature 별 중요도 \n",
    "**각 feature가 분류를 나누는 데에 얼마나 큰 영향을 미쳤는지를 표기하는 척도이다.**\n",
    "- feature_importances_\n",
    "- 분류를 결정하는 데에 얼만큼 기여했는 지를 feature별로 수치를 리턴해준다."
   ]
  },
  {
   "cell_type": "code",
   "execution_count": 12,
   "id": "a7ebe3ad-97a0-454c-bdca-33f5d10edf24",
   "metadata": {},
   "outputs": [
    {
     "name": "stdout",
     "output_type": "stream",
     "text": [
      "['sepal length (cm)', 'sepal width (cm)', 'petal length (cm)', 'petal width (cm)']\n",
      "[0.         0.         0.57588361 0.42411639]\n"
     ]
    }
   ],
   "source": [
    "print(iris.feature_names)\n",
    "print(dtc.feature_importances_)"
   ]
  },
  {
   "cell_type": "code",
   "execution_count": 14,
   "id": "a15c2348-5ecb-4505-9fd5-2a5bdb138dd0",
   "metadata": {},
   "outputs": [
    {
     "name": "stdout",
     "output_type": "stream",
     "text": [
      "sepal length (cm) : 0.0%\n",
      "sepal width (cm) : 0.0%\n",
      "petal length (cm) : 57.59%\n",
      "petal width (cm) : 42.41%\n"
     ]
    }
   ],
   "source": [
    "for name, value in zip(iris.feature_names,dtc.feature_importances_) :\n",
    "    print(f'{name} : {round(value * 100, 2)}%')"
   ]
  },
  {
   "cell_type": "code",
   "execution_count": 16,
   "id": "a472d061-445b-4ab2-abec-a2adde7e1230",
   "metadata": {},
   "outputs": [
    {
     "name": "stderr",
     "output_type": "stream",
     "text": [
      "C:\\ProgramData\\anaconda3\\Lib\\site-packages\\seaborn\\_oldcore.py:1765: FutureWarning: unique with argument that is not not a Series, Index, ExtensionArray, or np.ndarray is deprecated and will raise in a future version.\n",
      "  order = pd.unique(vector)\n"
     ]
    },
    {
     "data": {
      "image/png": "[encoded data removed]",
      "text/plain": [
       "<Figure size 640x480 with 1 Axes>"
      ]
     },
     "metadata": {},
     "output_type": "display_data"
    }
   ],
   "source": [
    "import matplotlib.pyplot as plt\n",
    "import seaborn as sns\n",
    "\n",
    "sns.barplot(x=dtc.feature_importances_, y=iris.feature_names)\n",
    "plt.show()"
   ]
  },
  {
   "cell_type": "markdown",
   "id": "18dec8e9-ccd1-4215-b8d8-fee4d2c9d5e8",
   "metadata": {},
   "source": [
    "#### 결정 트리의 과적합 \n",
    "- 위에서 알아낸 것 처럼 petal length, petal width, 2개의 feature 만으로도 분류가 가능하기 때문에, 2차원 산점도를 통해 시각화 할 수 있다.\n",
    "- 마지막 까지 노드가 분리되었기 때문에 과적합이 발생했을 가능성이 있고, 이를 <sub>※</sub> 하이퍼 파라미터 튜닝을 통해 해결할 수 있다.\n",
    "\n",
    "<sub>※ 하이퍼 파라미터란, 최적의 훈련 모델을 구현하기 위해 알고리즘의 수치를 조정할 수 있는 변수를 의미한다.</sub>\n"
   ]
  },
  {
   "cell_type": "code",
   "execution_count": 25,
   "id": "ff92e131-0a41-4475-aad6-d011a83fd731",
   "metadata": {},
   "outputs": [
    {
     "data": {
      "image/png": "[encoded data removed]",
      "text/plain": [
       "<Figure size 640x480 with 1 Axes>"
      ]
     },
     "metadata": {},
     "output_type": "display_data"
    }
   ],
   "source": [
    "features, targets = iris.data, iris.target\n",
    "plt.scatter(features[:,2],features[:,3], c=targets, edgecolors='k', cmap=\"rainbow\", s=25)\n",
    "plt.show()\n",
    "# 3개"
   ]
  },
  {
   "cell_type": "code",
   "execution_count": null,
   "id": "2fc000a1-722e-4e29-a079-a8f8afe9229c",
   "metadata": {},
   "outputs": [],
   "source": []
  },
  {
   "cell_type": "code",
   "execution_count": null,
   "id": "88612043-4e2b-40e7-9cfe-8ebd265c5067",
   "metadata": {},
   "outputs": [],
   "source": []
  },
  {
   "cell_type": "code",
   "execution_count": null,
   "id": "dafabb04-7c9f-4875-ab6c-df20ef9345c8",
   "metadata": {},
   "outputs": [],
   "source": []
  },
  {
   "cell_type": "code",
   "execution_count": null,
   "id": "ded03d58-d49f-4c36-b80e-e3b41526ddf0",
   "metadata": {},
   "outputs": [],
   "source": []
  },
  {
   "cell_type": "code",
   "execution_count": null,
   "id": "18e2a53e-fdcf-4b57-913e-e53aca61ba51",
   "metadata": {},
   "outputs": [],
   "source": []
  },
  {
   "cell_type": "code",
   "execution_count": null,
   "id": "2881d2c8-f42a-415c-a9c6-4cceb7c3cb7a",
   "metadata": {},
   "outputs": [],
   "source": []
  },
  {
   "cell_type": "code",
   "execution_count": null,
   "id": "e0a05c03-d99e-4f2a-a01a-2be150789560",
   "metadata": {},
   "outputs": [],
   "source": []
  },
  {
   "cell_type": "code",
   "execution_count": null,
   "id": "d3054c1f-b9b1-4b39-9641-eeb6ac1cc9cd",
   "metadata": {},
   "outputs": [],
   "source": []
  },
  {
   "cell_type": "code",
   "execution_count": null,
   "id": "86a5cce0-c6b5-4c88-b393-21f9ee03d665",
   "metadata": {},
   "outputs": [],
   "source": []
  },
  {
   "cell_type": "code",
   "execution_count": null,
   "id": "bf038148-cb51-4c64-91a1-0db181d1dee9",
   "metadata": {},
   "outputs": [],
   "source": []
  }
 ],
 "metadata": {
  "kernelspec": {
   "display_name": "Python 3 (ipykernel)",
   "language": "python",
   "name": "python3"
  },
  "language_info": {
   "codemirror_mode": {
    "name": "ipython",
    "version": 3
   },
   "file_extension": ".py",
   "mimetype": "text/x-python",
   "name": "python",
   "nbconvert_exporter": "python",
   "pygments_lexer": "ipython3",
   "version": "3.11.8"
  }
 },
 "nbformat": 4,
 "nbformat_minor": 5
}

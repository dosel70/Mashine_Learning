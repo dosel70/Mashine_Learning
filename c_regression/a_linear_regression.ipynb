{
 "cells": [
  {
   "cell_type": "markdown",
   "id": "953b5f64-e0a3-4fff-a32a-0794c6d717c1",
   "metadata": {},
   "source": [
    "### 회귀 (Regression)\n",
    "- 데이터가 평균과 같은 일정한 값으로 돌아가려는 경향을 이용한 통계학 기법이다.\n",
    "- 여러 개의 독립 변수와 한 개의 종속 변수 간의 상관관계를 모델링 하는 기법을 통칭한다.\n",
    "- feature와 target 데이터 기반으로 학습하여 최적의 회귀 계수(W , 가중치) 를 찾는 것이 회귀의 목적이다.\n",
    "- 아래는 복습 시간에 따른 다음 수업의 이해도를 수치로 표현한 표이다.\n",
    "\n",
    "- 수학에서 W"
   ]
  },
  {
   "cell_type": "code",
   "execution_count": null,
   "id": "071e9b52-1f87-4a08-bc10-07c208117af2",
   "metadata": {},
   "outputs": [],
   "source": []
  },
  {
   "cell_type": "code",
   "execution_count": null,
   "id": "e3fe33fe-4864-4b2e-a567-fba232294f1d",
   "metadata": {},
   "outputs": [],
   "source": []
  },
  {
   "cell_type": "code",
   "execution_count": null,
   "id": "3eb61bde-567a-4c98-be81-fce322bc1b1e",
   "metadata": {},
   "outputs": [],
   "source": []
  },
  {
   "cell_type": "code",
   "execution_count": null,
   "id": "d999e685-4c62-4cea-b239-7f99770c97f4",
   "metadata": {},
   "outputs": [],
   "source": []
  },
  {
   "cell_type": "code",
   "execution_count": null,
   "id": "88ad00a7-fdc7-4f25-84e1-9b64232d054f",
   "metadata": {},
   "outputs": [],
   "source": []
  },
  {
   "cell_type": "code",
   "execution_count": null,
   "id": "16ef2f00-5274-4abe-b72e-237a6528c35c",
   "metadata": {},
   "outputs": [],
   "source": []
  },
  {
   "cell_type": "code",
   "execution_count": null,
   "id": "0f420c08-c80c-4401-b604-f14907a535ea",
   "metadata": {},
   "outputs": [],
   "source": []
  },
  {
   "cell_type": "code",
   "execution_count": null,
   "id": "6476861e-de4c-455f-af19-ccce0fe682a2",
   "metadata": {},
   "outputs": [],
   "source": []
  },
  {
   "cell_type": "code",
   "execution_count": null,
   "id": "21a30f71-bd47-4e06-abe4-484c97e0caea",
   "metadata": {},
   "outputs": [],
   "source": []
  },
  {
   "cell_type": "code",
   "execution_count": null,
   "id": "7563a33c-1a02-4ac5-ae30-b832045a6540",
   "metadata": {},
   "outputs": [],
   "source": []
  },
  {
   "cell_type": "code",
   "execution_count": null,
   "id": "bc21c953-efec-4e94-b942-2ac3489d051a",
   "metadata": {},
   "outputs": [],
   "source": []
  },
  {
   "cell_type": "code",
   "execution_count": null,
   "id": "ca31eb10-bfac-498f-b6ac-4399a5ba1abb",
   "metadata": {},
   "outputs": [],
   "source": []
  },
  {
   "cell_type": "code",
   "execution_count": null,
   "id": "83c0a009-47af-4ad3-a2ef-134280fbf7aa",
   "metadata": {},
   "outputs": [],
   "source": []
  },
  {
   "cell_type": "code",
   "execution_count": null,
   "id": "8b2b398b-699c-436a-bcef-0146510aa18b",
   "metadata": {},
   "outputs": [],
   "source": []
  }
 ],
 "metadata": {
  "kernelspec": {
   "display_name": "Python 3 (ipykernel)",
   "language": "python",
   "name": "python3"
  },
  "language_info": {
   "codemirror_mode": {
    "name": "ipython",
    "version": 3
   },
   "file_extension": ".py",
   "mimetype": "text/x-python",
   "name": "python",
   "nbconvert_exporter": "python",
   "pygments_lexer": "ipython3",
   "version": "3.11.8"
  }
 },
 "nbformat": 4,
 "nbformat_minor": 5
}
